{
  "nbformat": 4,
  "nbformat_minor": 0,
  "metadata": {
    "colab": {
      "provenance": [],
      "authorship_tag": "ABX9TyPVXlQjuAql4A2oPoHHUSoD",
      "include_colab_link": true
    },
    "kernelspec": {
      "name": "python3",
      "display_name": "Python 3"
    },
    "language_info": {
      "name": "python"
    }
  },
  "cells": [
    {
      "cell_type": "markdown",
      "metadata": {
        "id": "view-in-github",
        "colab_type": "text"
      },
      "source": [
        "<a href=\"https://colab.research.google.com/github/Khushi-Raj-Das/CCTV-Object-detection/blob/main/CCTV_detections.ipynb\" target=\"_parent\"><img src=\"https://colab.research.google.com/assets/colab-badge.svg\" alt=\"Open In Colab\"/></a>"
      ]
    },
    {
      "cell_type": "code",
      "source": [
        "import cv2\n",
        "import numpy as np\n",
        "\n",
        "# Load YOLO model\n",
        "def load_yolo():\n",
        "    net = cv2.dnn.readNet(\"yolov4.weights\", \"yolov4.cfg\")\n",
        "    layer_names = net.getLayerNames()\n",
        "    output_layers = [layer_names[i - 1] for i in net.getUnconnectedOutLayers()]  # Corrected indexing\n",
        "    with open(\"coco.names\", \"r\") as f:\n",
        "        classes = [line.strip() for line in f.readlines()]\n",
        "    return net, classes, output_layers\n",
        "\n",
        "# Detect objects\n",
        "def detect_objects(img, net, output_layers):\n",
        "    height, width, _ = img.shape\n",
        "    blob = cv2.dnn.blobFromImage(img, 0.00392, (416, 416), (0, 0, 0), True, crop=False)\n",
        "    net.setInput(blob)\n",
        "    outputs = net.forward(output_layers)\n",
        "    return outputs, width, height\n",
        "\n",
        "# Process detections\n",
        "def process_detections(outputs, width, height, classes, frame):\n",
        "    boxes = []\n",
        "    confidences = []\n",
        "    class_ids = []\n",
        "    harmful_objects = [\"fire\", \"knife\", \"gun\"]  # Specify harmful objects\n",
        "\n",
        "    for output in outputs:\n",
        "        for detection in output:\n",
        "            scores = detection[5:]\n",
        "            class_id = np.argmax(scores)\n",
        "            confidence = scores[class_id]\n",
        "            if confidence > 0.5:\n",
        "                center_x = int(detection[0] * width)\n",
        "                center_y = int(detection[1] * height)\n",
        "                w = int(detection[2] * width)\n",
        "                h = int(detection[3] * height)\n",
        "                x = int(center_x - w / 2)\n",
        "                y = int(center_y - h / 2)\n",
        "                boxes.append([x, y, w, h])\n",
        "                confidences.append(float(confidence))\n",
        "                class_ids.append(class_id)\n",
        "\n",
        "    indexes = cv2.dnn.NMSBoxes(boxes, confidences, 0.5, 0.4)\n",
        "    if len(indexes) > 0:\n",
        "        for i in indexes.flatten():\n",
        "            if classes[class_ids[i]] in harmful_objects:\n",
        "                x, y, w, h = boxes[i]\n",
        "                label = str(classes[class_ids[i]])\n",
        "                confidence = confidences[i]\n",
        "                print(f\"Alert! Detected {label} with {confidence*100:.2f}% confidence.\")\n",
        "                cv2.rectangle(frame, (x, y), (x + w, y + h), (0, 0, 255), 2)\n",
        "                cv2.putText(frame, label, (x, y - 10), cv2.FONT_HERSHEY_SIMPLEX, 1, (0, 0, 255), 2)\n",
        "\n",
        "# Main function\n",
        "def main():\n",
        "    net, classes, output_layers = load_yolo()\n",
        "    cap = cv2.VideoCapture(0)  # Use camera feed\n",
        "    if not cap.isOpened():\n",
        "        print(\"Error: Unable to access the camera.\")\n",
        "        return\n",
        "\n",
        "    while True:\n",
        "        ret, frame = cap.read()\n",
        "        if not ret or frame is None:\n",
        "            print(\"Error: Failed to capture frame from the camera.\")\n",
        "            break\n",
        "\n",
        "        outputs, width, height = detect_objects(frame, net, output_layers)\n",
        "        process_detections(outputs, width, height, classes, frame)\n",
        "        cv2.imshow(\"Bank Protection System\", frame)\n",
        "        if cv2.waitKey(1) & 0xFF == ord('q'):  # Press 'q' to quit\n",
        "            break\n",
        "\n",
        "    cap.release()\n",
        "    cv2.destroyAllWindows()\n",
        "\n",
        "if __name__ == \"__main__\":\n",
        "    main()\n"
      ],
      "metadata": {
        "colab": {
          "base_uri": "https://localhost:8080/"
        },
        "id": "aTvx6TRt_TeT",
        "outputId": "823cadae-1b64-4f6c-ac68-4b2cc5e42fc0"
      },
      "execution_count": 9,
      "outputs": [
        {
          "output_type": "stream",
          "name": "stdout",
          "text": [
            "Error: Unable to access the camera.\n"
          ]
        }
      ]
    },
    {
      "cell_type": "code",
      "source": [
        "import cv2\n",
        "\n",
        "cap = cv2.VideoCapture(0)  # Test with index 0 (primary camera)\n",
        "if not cap.isOpened():\n",
        "    print(\"Error: Unable to access the camera.\")\n",
        "else:\n",
        "    while True:\n",
        "        ret, frame = cap.read()\n",
        "        if not ret:\n",
        "            print(\"Error: Failed to capture frame.\")\n",
        "            break\n",
        "        cv2.imshow(\"Camera Test\", frame)\n",
        "        if cv2.waitKey(1) & 0xFF == ord('q'):  # Press 'q' to quit\n",
        "            break\n",
        "    cap.release()\n",
        "    cv2.destroyAllWindows()\n"
      ],
      "metadata": {
        "colab": {
          "base_uri": "https://localhost:8080/"
        },
        "id": "LORJPdNV_Ryh",
        "outputId": "f049d83c-fcd5-46f3-c484-59274ae015d6"
      },
      "execution_count": 10,
      "outputs": [
        {
          "output_type": "stream",
          "name": "stdout",
          "text": [
            "Error: Unable to access the camera.\n"
          ]
        }
      ]
    }
  ]
}